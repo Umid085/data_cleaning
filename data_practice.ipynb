{
 "cells": [
  {
   "cell_type": "code",
   "execution_count": null,
   "metadata": {},
   "outputs": [
    {
     "data": {
      "text/html": [
       "<div>\n",
       "<style scoped>\n",
       "    .dataframe tbody tr th:only-of-type {\n",
       "        vertical-align: middle;\n",
       "    }\n",
       "\n",
       "    .dataframe tbody tr th {\n",
       "        vertical-align: top;\n",
       "    }\n",
       "\n",
       "    .dataframe thead th {\n",
       "        text-align: right;\n",
       "    }\n",
       "</style>\n",
       "<table border=\"1\" class=\"dataframe\">\n",
       "  <thead>\n",
       "    <tr style=\"text-align: right;\">\n",
       "      <th></th>\n",
       "      <th>Model</th>\n",
       "      <th>Price</th>\n",
       "      <th>Horsepower</th>\n",
       "    </tr>\n",
       "  </thead>\n",
       "  <tbody>\n",
       "    <tr>\n",
       "      <th>0</th>\n",
       "      <td>Bike 1</td>\n",
       "      <td>100</td>\n",
       "      <td>1000</td>\n",
       "    </tr>\n",
       "    <tr>\n",
       "      <th>1</th>\n",
       "      <td>Bike 2</td>\n",
       "      <td>200</td>\n",
       "      <td>2640</td>\n",
       "    </tr>\n",
       "    <tr>\n",
       "      <th>2</th>\n",
       "      <td>Bike 3</td>\n",
       "      <td>300</td>\n",
       "      <td>3678</td>\n",
       "    </tr>\n",
       "    <tr>\n",
       "      <th>3</th>\n",
       "      <td>Bike 4</td>\n",
       "      <td>400</td>\n",
       "      <td>4153</td>\n",
       "    </tr>\n",
       "    <tr>\n",
       "      <th>4</th>\n",
       "      <td>Bike 5</td>\n",
       "      <td>500</td>\n",
       "      <td>5795</td>\n",
       "    </tr>\n",
       "  </tbody>\n",
       "</table>\n",
       "</div>"
      ],
      "text/plain": [
       "    Model  Price  Horsepower\n",
       "0  Bike 1    100        1000\n",
       "1  Bike 2    200        2640\n",
       "2  Bike 3    300        3678\n",
       "3  Bike 4    400        4153\n",
       "4  Bike 5    500        5795"
      ]
     },
     "execution_count": 21,
     "metadata": {},
     "output_type": "execute_result"
    }
   ],
   "source": [
    "import pandas as pd\n",
    "data = { 'Model': ['Bike 1', 'Bike 2', 'Bike 3', 'Bike 4', 'Bike 5'],\n",
    "        'Price': [10000, 200000, 30000, 40000, 5000000],\n",
    "        'Horsepower': [1000, 2640, 3678, 4153, 5795]}\n",
    "motorbike_df = pd.DataFrame(data)\n",
    "motorbike_df"
   ]
  },
  {
   "cell_type": "code",
   "execution_count": 22,
   "metadata": {},
   "outputs": [
    {
     "name": "stdout",
     "output_type": "stream",
     "text": [
      "Average price of bike is 300.0\n"
     ]
    }
   ],
   "source": [
    "# Average price of bikes\n",
    "avg_price = motorbike_df['Price'].mean()\n",
    "print(f'Average price of bike is {avg_price}')"
   ]
  },
  {
   "cell_type": "code",
   "execution_count": 23,
   "metadata": {},
   "outputs": [
    {
     "name": "stdout",
     "output_type": "stream",
     "text": [
      "The most expensive price is 500\n"
     ]
    }
   ],
   "source": [
    "# The most expensive bike\n",
    "max_price = motorbike_df['Price'].max()\n",
    "print(f'The most expensive price is {max_price}')"
   ]
  },
  {
   "cell_type": "code",
   "execution_count": 24,
   "metadata": {},
   "outputs": [
    {
     "name": "stdout",
     "output_type": "stream",
     "text": [
      "The least expensive price is 100\n"
     ]
    }
   ],
   "source": [
    "# The cheapest bike\n",
    "max_price = motorbike_df['Price'].min()\n",
    "print(f'The least expensive price is {max_price}')"
   ]
  },
  {
   "cell_type": "code",
   "execution_count": 25,
   "metadata": {},
   "outputs": [
    {
     "name": "stdout",
     "output_type": "stream",
     "text": [
      "Average horsepower of bike is 3453.2\n"
     ]
    }
   ],
   "source": [
    "# Average horsepower of bikes\n",
    "avg_hp = motorbike_df.loc[:,'Horsepower'].mean()\n",
    "print(f'Average horsepower of bike is {avg_hp}')"
   ]
  },
  {
   "cell_type": "code",
   "execution_count": 26,
   "metadata": {},
   "outputs": [
    {
     "name": "stdout",
     "output_type": "stream",
     "text": [
      "Most powerful bike has 5795 Horsepower\n"
     ]
    }
   ],
   "source": [
    "#  The most powerful bike\n",
    "max_power = motorbike_df['Horsepower'].max()\n",
    "print(f'Most powerful bike has {max_power} Horsepower')"
   ]
  },
  {
   "cell_type": "code",
   "execution_count": 28,
   "metadata": {},
   "outputs": [
    {
     "name": "stdout",
     "output_type": "stream",
     "text": [
      "Least powerful bike has 1000 Horsepower\n"
     ]
    }
   ],
   "source": [
    "# The least powerful bike\n",
    "min_power = motorbike_df['Horsepower'].min()\n",
    "print(f'Least powerful bike has {min_power} Horsepower')"
   ]
  },
  {
   "cell_type": "code",
   "execution_count": 30,
   "metadata": {},
   "outputs": [
    {
     "data": {
      "text/html": [
       "<div>\n",
       "<style scoped>\n",
       "    .dataframe tbody tr th:only-of-type {\n",
       "        vertical-align: middle;\n",
       "    }\n",
       "\n",
       "    .dataframe tbody tr th {\n",
       "        vertical-align: top;\n",
       "    }\n",
       "\n",
       "    .dataframe thead th {\n",
       "        text-align: right;\n",
       "    }\n",
       "</style>\n",
       "<table border=\"1\" class=\"dataframe\">\n",
       "  <thead>\n",
       "    <tr style=\"text-align: right;\">\n",
       "      <th></th>\n",
       "      <th>Model</th>\n",
       "      <th>Price</th>\n",
       "      <th>Horsepower</th>\n",
       "      <th>Price_per_hp</th>\n",
       "    </tr>\n",
       "  </thead>\n",
       "  <tbody>\n",
       "    <tr>\n",
       "      <th>0</th>\n",
       "      <td>Bike 1</td>\n",
       "      <td>100</td>\n",
       "      <td>1000</td>\n",
       "      <td>0.100000</td>\n",
       "    </tr>\n",
       "    <tr>\n",
       "      <th>1</th>\n",
       "      <td>Bike 2</td>\n",
       "      <td>200</td>\n",
       "      <td>2640</td>\n",
       "      <td>0.075758</td>\n",
       "    </tr>\n",
       "    <tr>\n",
       "      <th>2</th>\n",
       "      <td>Bike 3</td>\n",
       "      <td>300</td>\n",
       "      <td>3678</td>\n",
       "      <td>0.081566</td>\n",
       "    </tr>\n",
       "    <tr>\n",
       "      <th>3</th>\n",
       "      <td>Bike 4</td>\n",
       "      <td>400</td>\n",
       "      <td>4153</td>\n",
       "      <td>0.096316</td>\n",
       "    </tr>\n",
       "    <tr>\n",
       "      <th>4</th>\n",
       "      <td>Bike 5</td>\n",
       "      <td>500</td>\n",
       "      <td>5795</td>\n",
       "      <td>0.086281</td>\n",
       "    </tr>\n",
       "  </tbody>\n",
       "</table>\n",
       "</div>"
      ],
      "text/plain": [
       "    Model  Price  Horsepower  Price_per_hp\n",
       "0  Bike 1    100        1000      0.100000\n",
       "1  Bike 2    200        2640      0.075758\n",
       "2  Bike 3    300        3678      0.081566\n",
       "3  Bike 4    400        4153      0.096316\n",
       "4  Bike 5    500        5795      0.086281"
      ]
     },
     "execution_count": 30,
     "metadata": {},
     "output_type": "execute_result"
    }
   ],
   "source": [
    "# Price per horsepower\n",
    "motorbike_df['Price_per_hp'] = motorbike_df['Price'] / motorbike_df['Horsepower']\n",
    "motorbike_df"
   ]
  },
  {
   "cell_type": "code",
   "execution_count": 10,
   "metadata": {},
   "outputs": [],
   "source": [
    "# The most expensive bike per horsepower"
   ]
  },
  {
   "cell_type": "code",
   "execution_count": null,
   "metadata": {},
   "outputs": [],
   "source": [
    "# The cheapest bike per horsepower"
   ]
  }
 ],
 "metadata": {
  "kernelspec": {
   "display_name": "Python 3",
   "language": "python",
   "name": "python3"
  },
  "language_info": {
   "codemirror_mode": {
    "name": "ipython",
    "version": 3
   },
   "file_extension": ".py",
   "mimetype": "text/x-python",
   "name": "python",
   "nbconvert_exporter": "python",
   "pygments_lexer": "ipython3",
   "version": "3.13.2"
  }
 },
 "nbformat": 4,
 "nbformat_minor": 2
}
